{
  "nbformat": 4,
  "nbformat_minor": 0,
  "metadata": {
    "colab": {
      "provenance": []
    },
    "kernelspec": {
      "name": "python3",
      "display_name": "Python 3"
    },
    "language_info": {
      "name": "python"
    }
  },
  "cells": [
    {
      "cell_type": "code",
      "source": [
        "# Ran the code using GOOGLE COLAB\n",
        "\n",
        "# Covered requirements:\n",
        "# It must pull data from the internet (typically webpages)\n",
        "# It must pull data from 5 different webpages (using pandas, this page uses requests) -- This is 3rd page\n",
        "# It must do some basic calculations on numerical data from 3 of those pages (mean, median, mode, min, max)\n",
        "# It must make use of your own methods where appropriate\n",
        "# It must produce at least 3 charts from 3 of those pages\n",
        "# It must save the data to a file\n",
        "\n",
        "\n",
        "# Covered Additional requirements:\n",
        "# The 5 webpages are from 5 different websites\n",
        "# It does basic calculations on all 5 of those webpages\n",
        "# It uses BeautifulSoup on this webpages and parses the html -- This is 2nd page using bs4\n",
        "# It produces 5 charts from all 5 of the webpages\n",
        "# It saves the charts in addition to the data, to image files\n",
        "\n",
        "\n",
        "import pandas as pd\n",
        "import keyword\n",
        "import requests\n",
        "from bs4 import BeautifulSoup\n",
        "import matplotlib.pyplot as plt\n",
        "import statistics as st\n",
        "from google.colab import files\n",
        "\n",
        "\n",
        "use_url = \"https://news.ycombinator.com/item?id=29782099\"\n",
        "get_response = requests.get(use_url)\n",
        "\n",
        "soup = BeautifulSoup(get_response.content, \"html.parser\")\n",
        "\n",
        "all_elements = soup.find_all(class_=\"ind\", indent=0)\n",
        "\n",
        "all_comments = [every_element.find_next(class_=\"comment\") for every_element in all_elements]\n",
        "\n",
        "all_keywords = { \"engineering\": 0, \"developer\": 0, \"designers\": 0, \"devops\": 0, \"research\": 0}\n",
        "\n",
        "for comment in all_comments:\n",
        "    comment_text = comment.get_text().lower()\n",
        "    words = comment_text.split(\" \")\n",
        "    words = {w.strip(\".,/?!:;@#*$\") for w in words}\n",
        "\n",
        "    for k in all_keywords:\n",
        "        if k in words:\n",
        "            all_keywords[k] += 1\n",
        "print(\"The Keywords count is : \", all_keywords)\n",
        "\n",
        "\n",
        "# Performing basic operations \n",
        "Key_values_sum = sum(all_keywords.values())\n",
        "print (\"\\n\" + \"The output of basic operations is:\" + \"\\n\" + \"Sum:\" ,Key_values_sum)\n",
        "\n",
        "Key_values_min = min(all_keywords.values())\n",
        "print (\"Minimum Value:\" ,Key_values_min)\n",
        "\n",
        "Key_values_max = max(all_keywords.values())\n",
        "print (\"Maximum Value:\" ,Key_values_max)\n",
        "\n",
        "Key_values_mean = Key_values_sum/len(all_keywords.values())\n",
        "print (\"Mean:\" ,Key_values_mean)\n",
        "\n",
        "Key_values_median = st.median(all_keywords.values())\n",
        "print (\"Median:\" ,Key_values_median)\n",
        "\n",
        "magnitude_mode = st.mode(all_keywords.values())\n",
        "print (\"Mode:\" ,magnitude_mode)\n",
        "\n",
        "#graph 1\n",
        "#bar plot\n",
        "f = plt.figure(figsize=(10, 10))\n",
        "plt.bar(all_keywords.keys(), all_keywords.values())\n",
        "plt.xlabel(\"Job Titles\")\n",
        "plt.ylabel(\"No of mentions\")\n",
        "plt.title(\"BAR PLOT FOR JOB TITTLES USED IN COMMENTS\")\n",
        "plt.autoscale()\n",
        "plt.savefig('graph3-1.png')                                                     #Saving the Frist graph\n",
        "files.download('graph3-1.png')                                                  #Downloading the First graph\n",
        "\n",
        "print (\"\\n\\n\")\n",
        "\n",
        "#graph 2\n",
        "#pie chart\n",
        "f = plt.figure(figsize=(7,7))\n",
        "colors=['m','c','b','g','r']\n",
        "plt.pie(all_keywords.values(), labels= all_keywords.keys(), colors=colors, pctdistance=0.6, startangle=100, \n",
        "        shadow=True, explode=(0,0,.1,0,0), autopct='%1.1f%%', radius=1, counterclock=True)\n",
        "plt.title(\"PIE PLOT FOR JOB TITTLES USED IN COMMENTS\")\n",
        "plt.savefig('graph3-2.png',dpi=100)                                             #Saving the Second graph\n",
        "files.download('graph3-2.png')                                                  #Downloaing the Second graph\n"
      ],
      "metadata": {
        "colab": {
          "base_uri": "https://localhost:8080/",
          "height": 1000
        },
        "id": "muOPhkJ74v9M",
        "outputId": "4d0d6414-de18-4611-bb7e-ad81425a0725"
      },
      "execution_count": 17,
      "outputs": [
        {
          "output_type": "stream",
          "name": "stdout",
          "text": [
            "The Keywords count is :  {'engineering': 239, 'developer': 128, 'designers': 27, 'devops': 62, 'research': 48}\n",
            "\n",
            "The output of basic operations is:\n",
            "Sum: 504\n",
            "Minimum Value: 27\n",
            "Maximum Value: 239\n",
            "Mean: 100.8\n",
            "Median: 62\n",
            "Mode: 239\n"
          ]
        },
        {
          "output_type": "display_data",
          "data": {
            "text/plain": [
              "<IPython.core.display.Javascript object>"
            ],
            "application/javascript": [
              "\n",
              "    async function download(id, filename, size) {\n",
              "      if (!google.colab.kernel.accessAllowed) {\n",
              "        return;\n",
              "      }\n",
              "      const div = document.createElement('div');\n",
              "      const label = document.createElement('label');\n",
              "      label.textContent = `Downloading \"${filename}\": `;\n",
              "      div.appendChild(label);\n",
              "      const progress = document.createElement('progress');\n",
              "      progress.max = size;\n",
              "      div.appendChild(progress);\n",
              "      document.body.appendChild(div);\n",
              "\n",
              "      const buffers = [];\n",
              "      let downloaded = 0;\n",
              "\n",
              "      const channel = await google.colab.kernel.comms.open(id);\n",
              "      // Send a message to notify the kernel that we're ready.\n",
              "      channel.send({})\n",
              "\n",
              "      for await (const message of channel.messages) {\n",
              "        // Send a message to notify the kernel that we're ready.\n",
              "        channel.send({})\n",
              "        if (message.buffers) {\n",
              "          for (const buffer of message.buffers) {\n",
              "            buffers.push(buffer);\n",
              "            downloaded += buffer.byteLength;\n",
              "            progress.value = downloaded;\n",
              "          }\n",
              "        }\n",
              "      }\n",
              "      const blob = new Blob(buffers, {type: 'application/binary'});\n",
              "      const a = document.createElement('a');\n",
              "      a.href = window.URL.createObjectURL(blob);\n",
              "      a.download = filename;\n",
              "      div.appendChild(a);\n",
              "      a.click();\n",
              "      div.remove();\n",
              "    }\n",
              "  "
            ]
          },
          "metadata": {}
        },
        {
          "output_type": "display_data",
          "data": {
            "text/plain": [
              "<IPython.core.display.Javascript object>"
            ],
            "application/javascript": [
              "download(\"download_bac14256-e8c4-4e6e-9da0-542d8c89433f\", \"graph3-1.png\", 16144)"
            ]
          },
          "metadata": {}
        },
        {
          "output_type": "stream",
          "name": "stdout",
          "text": [
            "\n",
            "\n",
            "\n"
          ]
        },
        {
          "output_type": "display_data",
          "data": {
            "text/plain": [
              "<IPython.core.display.Javascript object>"
            ],
            "application/javascript": [
              "\n",
              "    async function download(id, filename, size) {\n",
              "      if (!google.colab.kernel.accessAllowed) {\n",
              "        return;\n",
              "      }\n",
              "      const div = document.createElement('div');\n",
              "      const label = document.createElement('label');\n",
              "      label.textContent = `Downloading \"${filename}\": `;\n",
              "      div.appendChild(label);\n",
              "      const progress = document.createElement('progress');\n",
              "      progress.max = size;\n",
              "      div.appendChild(progress);\n",
              "      document.body.appendChild(div);\n",
              "\n",
              "      const buffers = [];\n",
              "      let downloaded = 0;\n",
              "\n",
              "      const channel = await google.colab.kernel.comms.open(id);\n",
              "      // Send a message to notify the kernel that we're ready.\n",
              "      channel.send({})\n",
              "\n",
              "      for await (const message of channel.messages) {\n",
              "        // Send a message to notify the kernel that we're ready.\n",
              "        channel.send({})\n",
              "        if (message.buffers) {\n",
              "          for (const buffer of message.buffers) {\n",
              "            buffers.push(buffer);\n",
              "            downloaded += buffer.byteLength;\n",
              "            progress.value = downloaded;\n",
              "          }\n",
              "        }\n",
              "      }\n",
              "      const blob = new Blob(buffers, {type: 'application/binary'});\n",
              "      const a = document.createElement('a');\n",
              "      a.href = window.URL.createObjectURL(blob);\n",
              "      a.download = filename;\n",
              "      div.appendChild(a);\n",
              "      a.click();\n",
              "      div.remove();\n",
              "    }\n",
              "  "
            ]
          },
          "metadata": {}
        },
        {
          "output_type": "display_data",
          "data": {
            "text/plain": [
              "<IPython.core.display.Javascript object>"
            ],
            "application/javascript": [
              "download(\"download_667136e0-69de-4b60-881c-45e320a208e3\", \"graph3-2.png\", 43112)"
            ]
          },
          "metadata": {}
        },
        {
          "output_type": "display_data",
          "data": {
            "text/plain": [
              "<Figure size 720x720 with 1 Axes>"
            ],
            "image/png": "[encoded data removed]"
          },
          "metadata": {
            "needs_background": "light"
          }
        },
        {
          "output_type": "display_data",
          "data": {
            "text/plain": [
              "<Figure size 504x504 with 1 Axes>"
            ],
            "image/png": "[encoded data removed]"
          },
          "metadata": {}
        }
      ]
    }
  ]
}